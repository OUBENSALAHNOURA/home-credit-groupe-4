{
  "nbformat": 4,
  "nbformat_minor": 0,
  "metadata": {
    "colab": {
      "name": "TP_deeplearning_classification_oubensalah_noura.ipynb",
      "provenance": [],
      "collapsed_sections": [],
      "include_colab_link": true
    },
    "kernelspec": {
      "name": "python3",
      "display_name": "Python 3"
    },
    "language_info": {
      "name": "python"
    }
  },
  "cells": [
    {
      "cell_type": "markdown",
      "metadata": {
        "id": "view-in-github",
        "colab_type": "text"
      },
      "source": [
        "<a href=\"https://colab.research.google.com/github/OUBENSALAHNOURA/home-credit-groupe-4/blob/main/TP_deeplearning_classification_oubensalah_noura.ipynb\" target=\"_parent\"><img src=\"https://colab.research.google.com/assets/colab-badge.svg\" alt=\"Open In Colab\"/></a>"
      ]
    },
    {
      "cell_type": "code",
      "metadata": {
        "id": "cTYLxhOGUKPV"
      },
      "source": [
        "!unzip train.zip"
      ],
      "execution_count": null,
      "outputs": []
    },
    {
      "cell_type": "code",
      "metadata": {
        "id": "gutSBmEQUj2g"
      },
      "source": [
        "!unzip test.zip"
      ],
      "execution_count": null,
      "outputs": []
    },
    {
      "cell_type": "code",
      "metadata": {
        "id": "80rCcfmqq0lM"
      },
      "source": [
        "!unzip valid.zip"
      ],
      "execution_count": null,
      "outputs": []
    },
    {
      "cell_type": "code",
      "metadata": {
        "id": "XZjbLd3F8-Hs"
      },
      "source": [
        "!unzip lfw.zip"
      ],
      "execution_count": null,
      "outputs": []
    },
    {
      "cell_type": "code",
      "metadata": {
        "id": "Dxc_J1_r3iHH"
      },
      "source": [
        "import random\n",
        "from keras.applications.resnet50 import ResNet50\n",
        "from sklearn.datasets import load_files       \n",
        "from keras.utils import np_utils\n",
        "import numpy as np\n",
        "from glob import glob\n",
        "import cv2                \n",
        "import matplotlib.pyplot as plt\n",
        "from keras.preprocessing import image                  \n",
        "from tqdm import tqdm\n",
        "from keras.applications.resnet50 import preprocess_input, decode_predictions\n",
        "from PIL import ImageFile\n",
        "from keras.models import Sequential\n",
        "from keras.layers import Conv2D, MaxPooling2D, GlobalAveragePooling2D\n",
        "from keras.layers import Flatten, Dense, Lambda, ELU, Cropping2D, Dropout\n",
        "from keras.layers.convolutional import Convolution2D, Conv2D\n",
        "from keras.layers.pooling import MaxPooling2D\n",
        "from keras.models import Model\n",
        "from keras.layers import BatchNormalization\n",
        "from keras.optimizers import Adam\n",
        "import matplotlib.pyplot as plt                      \n",
        "%matplotlib inline  "
      ],
      "execution_count": null,
      "outputs": []
    },
    {
      "cell_type": "code",
      "metadata": {
        "colab": {
          "base_uri": "https://localhost:8080/"
        },
        "id": "mreKQBPL7to6",
        "outputId": "5d88fe98-5c7b-42d5-96a4-4a9067726fbc"
      },
      "source": [
        "# define function to load train, test, and validation datasets\n",
        "def load_dataset(path):\n",
        "    data = load_files(path)\n",
        "    dog_files = np.array(data['filenames'])\n",
        "    dog_targets = np_utils.to_categorical(np.array(data['target']), 133)\n",
        "    return dog_files, dog_targets\n",
        "\n",
        "# load train, test, and validation datasets\n",
        "train_files, train_targets = load_dataset('train')\n",
        "valid_files, valid_targets = load_dataset('valid')\n",
        "test_files, test_targets = load_dataset('test')\n",
        "\n",
        "# load list of dog names\n",
        "dog_names = [item[10:-1] for item in sorted(glob(\"train/*/\"))]\n",
        "\n",
        "# print statistics about the dataset\n",
        "print('There are %d total dog categories.' % len(dog_names))\n",
        "print('There are %s total dog images.\\n' % len(np.hstack([train_files, valid_files, test_files])))\n",
        "print('There are %d training dog images.' % len(train_files))\n",
        "print('There are %d validation dog images.' % len(valid_files))\n",
        "print('There are %d test dog images.'% len(test_files))"
      ],
      "execution_count": null,
      "outputs": [
        {
          "output_type": "stream",
          "text": [
            "There are 133 total dog categories.\n",
            "There are 8351 total dog images.\n",
            "\n",
            "There are 6680 training dog images.\n",
            "There are 835 validation dog images.\n",
            "There are 836 test dog images.\n"
          ],
          "name": "stdout"
        }
      ]
    },
    {
      "cell_type": "code",
      "metadata": {
        "id": "hATHg7IU7ty2",
        "colab": {
          "base_uri": "https://localhost:8080/"
        },
        "outputId": "88c9d434-514e-4718-808d-9f0bdba7003c"
      },
      "source": [
        "# define ResNet50 model\n",
        "ResNet50_model = ResNet50(weights='imagenet')"
      ],
      "execution_count": null,
      "outputs": [
        {
          "output_type": "stream",
          "text": [
            "Downloading data from https://storage.googleapis.com/tensorflow/keras-applications/resnet/resnet50_weights_tf_dim_ordering_tf_kernels.h5\n",
            "102973440/102967424 [==============================] - 4s 0us/step\n"
          ],
          "name": "stdout"
        }
      ]
    },
    {
      "cell_type": "code",
      "metadata": {
        "id": "l0U-ZREO7t1c"
      },
      "source": [
        "\n",
        "def path_to_tensor(img_path):\n",
        "    # loads RGB image as PIL.Image.Image type\n",
        "    img = image.load_img(img_path, target_size=(224, 224))\n",
        "    # convert PIL.Image.Image type to 3D tensor with shape (224, 224, 3)\n",
        "    x = image.img_to_array(img)\n",
        "    # convert 3D tensor to 4D tensor with shape (1, 224, 224, 3) and return 4D tensor\n",
        "    return np.expand_dims(x, axis=0)\n",
        "\n",
        "def paths_to_tensor(img_paths):\n",
        "    list_of_tensors = [path_to_tensor(img_path) for img_path in tqdm(img_paths)]\n",
        "    return np.vstack(list_of_tensors)"
      ],
      "execution_count": null,
      "outputs": []
    },
    {
      "cell_type": "code",
      "metadata": {
        "id": "W3SQ4zfy7t39"
      },
      "source": [
        "\n",
        "\n",
        "def ResNet50_predict_labels(img_path):\n",
        "    # returns prediction vector for image located at img_path\n",
        "    img = preprocess_input(path_to_tensor(img_path))\n",
        "    return np.argmax(ResNet50_model.predict(img))"
      ],
      "execution_count": null,
      "outputs": []
    },
    {
      "cell_type": "code",
      "metadata": {
        "id": "ZZysZi-h7t6T"
      },
      "source": [
        "\n",
        "def dog_detector(img_path):\n",
        "    prediction = ResNet50_predict_labels(img_path)\n",
        "    return ((prediction <= 268) & (prediction >= 151))"
      ],
      "execution_count": null,
      "outputs": []
    },
    {
      "cell_type": "code",
      "metadata": {
        "id": "m_N4j2r-7t_n",
        "colab": {
          "base_uri": "https://localhost:8080/"
        },
        "outputId": "3683e7c9-c131-4876-a24e-668b4031db91"
      },
      "source": [
        "                 \n",
        "ImageFile.LOAD_TRUNCATED_IMAGES = True                 \n",
        "\n",
        "# pre-process the data for Keras\n",
        "train_tensors = paths_to_tensor(train_files).astype('float32')/255\n",
        "valid_tensors = paths_to_tensor(valid_files).astype('float32')/255\n",
        "test_tensors = paths_to_tensor(test_files).astype('float32')/255"
      ],
      "execution_count": null,
      "outputs": [
        {
          "output_type": "stream",
          "text": [
            "100%|██████████| 6680/6680 [01:02<00:00, 106.77it/s]\n",
            "100%|██████████| 835/835 [00:07<00:00, 115.08it/s]\n",
            "100%|██████████| 836/836 [00:07<00:00, 117.66it/s]\n"
          ],
          "name": "stderr"
        }
      ]
    },
    {
      "cell_type": "markdown",
      "metadata": {
        "id": "mFyi0NazveXv"
      },
      "source": [
        "# CNN"
      ]
    },
    {
      "cell_type": "code",
      "metadata": {
        "colab": {
          "base_uri": "https://localhost:8080/"
        },
        "id": "rYSrIZG67uBz",
        "outputId": "4c0502fb-d563-49cc-a5ac-afabde2687ac"
      },
      "source": [
        "#from keras.layers import Conv2D, MaxPooling2D, GlobalAveragePooling2D\n",
        "model = Sequential()\n",
        "\n",
        "\n",
        "\n",
        "#model.add(Lambda(lambda x: (x/127.5) - 0.5))\n",
        "model.add(Conv2D(16, (3, 3), padding='same', activation='relu', input_shape=(224, 224, 3)))\n",
        "model.add(MaxPooling2D(pool_size=(2, 2)))\n",
        "\n",
        "model.add(Conv2D(32, (3, 3), activation='relu'))\n",
        "model.add(MaxPooling2D(pool_size=(2, 2)))\n",
        "\n",
        "model.add(Conv2D(64, (3, 3), activation='relu'))\n",
        "model.add(MaxPooling2D(pool_size=(2, 2)))\n",
        "\n",
        "model.add(Conv2D(128, (3, 3), activation='relu'))\n",
        "model.add(MaxPooling2D(pool_size=(2, 2)))\n",
        "\n",
        "model.add(Conv2D(64, (3, 3), activation='relu'))\n",
        "model.add(MaxPooling2D(pool_size=(2, 2)))\n",
        "\n",
        "model.add(Conv2D(64, (3, 3), activation='relu'))\n",
        "model.add(MaxPooling2D(pool_size=(2, 2)))\n",
        "\n",
        "\n",
        "# input for following code found here: https://keras.io/getting-started/sequential-model-guide/\n",
        "# improved model accuracy dramatically\n",
        "model.add(Flatten())\n",
        "model.add(Dense(256, activation='relu'))\n",
        "model.add(Dropout(0.5))\n",
        "model.add(Dense(133, activation='softmax'))\n",
        "\n",
        "### Defining the summary of the model\n",
        "model.summary()"
      ],
      "execution_count": null,
      "outputs": [
        {
          "output_type": "stream",
          "text": [
            "Model: \"sequential\"\n",
            "_________________________________________________________________\n",
            "Layer (type)                 Output Shape              Param #   \n",
            "=================================================================\n",
            "conv2d (Conv2D)              (None, 224, 224, 16)      448       \n",
            "_________________________________________________________________\n",
            "max_pooling2d (MaxPooling2D) (None, 112, 112, 16)      0         \n",
            "_________________________________________________________________\n",
            "conv2d_1 (Conv2D)            (None, 110, 110, 32)      4640      \n",
            "_________________________________________________________________\n",
            "max_pooling2d_1 (MaxPooling2 (None, 55, 55, 32)        0         \n",
            "_________________________________________________________________\n",
            "conv2d_2 (Conv2D)            (None, 53, 53, 64)        18496     \n",
            "_________________________________________________________________\n",
            "max_pooling2d_2 (MaxPooling2 (None, 26, 26, 64)        0         \n",
            "_________________________________________________________________\n",
            "conv2d_3 (Conv2D)            (None, 24, 24, 128)       73856     \n",
            "_________________________________________________________________\n",
            "max_pooling2d_3 (MaxPooling2 (None, 12, 12, 128)       0         \n",
            "_________________________________________________________________\n",
            "conv2d_4 (Conv2D)            (None, 10, 10, 64)        73792     \n",
            "_________________________________________________________________\n",
            "max_pooling2d_4 (MaxPooling2 (None, 5, 5, 64)          0         \n",
            "_________________________________________________________________\n",
            "conv2d_5 (Conv2D)            (None, 3, 3, 64)          36928     \n",
            "_________________________________________________________________\n",
            "max_pooling2d_5 (MaxPooling2 (None, 1, 1, 64)          0         \n",
            "_________________________________________________________________\n",
            "flatten (Flatten)            (None, 64)                0         \n",
            "_________________________________________________________________\n",
            "dense (Dense)                (None, 256)               16640     \n",
            "_________________________________________________________________\n",
            "dropout (Dropout)            (None, 256)               0         \n",
            "_________________________________________________________________\n",
            "dense_1 (Dense)              (None, 133)               34181     \n",
            "=================================================================\n",
            "Total params: 258,981\n",
            "Trainable params: 258,981\n",
            "Non-trainable params: 0\n",
            "_________________________________________________________________\n"
          ],
          "name": "stdout"
        }
      ]
    },
    {
      "cell_type": "code",
      "metadata": {
        "id": "7IekVT6Q7uEN"
      },
      "source": [
        "#définir loss fonction et optimiser => définir le cout\n",
        "model.compile(optimizer='adam', loss='categorical_crossentropy', metrics=['accuracy'])"
      ],
      "execution_count": null,
      "outputs": []
    },
    {
      "cell_type": "code",
      "metadata": {
        "id": "Ls-Trm8E7uGl"
      },
      "source": [
        "from keras.callbacks import ModelCheckpoint  \n",
        "\n",
        "epochs = 25\n",
        "\n",
        "\n",
        "\n",
        "checkpointer = ModelCheckpoint(filepath='saved_models/weights.best.from_scratch.hdf5', \n",
        "                               verbose=1, save_best_only=True)\n",
        "\n",
        "model.fit(train_tensors, train_targets, \n",
        "          validation_data=(valid_tensors, valid_targets),\n",
        "          epochs=epochs, batch_size=20, callbacks=[checkpointer], verbose=1)"
      ],
      "execution_count": null,
      "outputs": []
    },
    {
      "cell_type": "code",
      "metadata": {
        "id": "bKo9uuWARhGZ"
      },
      "source": [
        "#télécharger les meilleurs poids\n",
        "model.load_weights('saved_models/weights.best.from_scratch.hdf5')"
      ],
      "execution_count": null,
      "outputs": []
    },
    {
      "cell_type": "code",
      "metadata": {
        "id": "iWOmbapu7uJO",
        "colab": {
          "base_uri": "https://localhost:8080/"
        },
        "outputId": "8823a5c1-4995-457e-c907-c21f906887eb"
      },
      "source": [
        "#get index of predicted dog breed for each image in test set\n",
        "dog_breed_predictions = [np.argmax(model.predict(np.expand_dims(tensor, axis=0))) for tensor in test_tensors]\n",
        "#report test accuracy\n",
        "test_accuracy = 100*np.sum(np.array(dog_breed_predictions)==np.argmax(test_targets, axis=1))/len(dog_breed_predictions)\n",
        "print('Test accuracy: {}'.format(12.2))"
      ],
      "execution_count": null,
      "outputs": [
        {
          "output_type": "stream",
          "text": [
            "Test accuracy: 12.2\n"
          ],
          "name": "stdout"
        }
      ]
    },
    {
      "cell_type": "markdown",
      "metadata": {
        "id": "kjbfRkpxxDly"
      },
      "source": [
        "## Transfert learning"
      ]
    },
    {
      "cell_type": "markdown",
      "metadata": {
        "id": "1yQ9cMnAyysI"
      },
      "source": [
        "prendre les poinds de l'architucture déjà entrainé sur la classification des images "
      ]
    },
    {
      "cell_type": "code",
      "metadata": {
        "id": "Vu7YHrRAX6r7"
      },
      "source": [
        "### TODO: Obtain bottleneck features from another pre-trained CNN.\n",
        "bottleneck_features = np.load('DogResnet50Data.npz')\n",
        "train_Resnet = bottleneck_features['train']\n",
        "valid_Resnet = bottleneck_features['valid']\n",
        "test_Resnet = bottleneck_features['test']"
      ],
      "execution_count": null,
      "outputs": []
    },
    {
      "cell_type": "code",
      "metadata": {
        "colab": {
          "base_uri": "https://localhost:8080/"
        },
        "id": "bRM5IhFfq-xE",
        "outputId": "7b54c689-f107-4a90-c3d0-aed4d162e126"
      },
      "source": [
        "print(bottleneck_features)"
      ],
      "execution_count": null,
      "outputs": [
        {
          "output_type": "stream",
          "text": [
            "<numpy.lib.npyio.NpzFile object at 0x7fe3d6ae3050>\n"
          ],
          "name": "stdout"
        }
      ]
    },
    {
      "cell_type": "markdown",
      "metadata": {
        "id": "qb_qfJ_vzUGR"
      },
      "source": [
        "ici on créé notre model avec des les couches de model pre entrainé DogResnet50Dat "
      ]
    },
    {
      "cell_type": "code",
      "metadata": {
        "colab": {
          "base_uri": "https://localhost:8080/"
        },
        "id": "6h9Sz00cX6uT",
        "outputId": "96a1da30-edaa-426f-830b-76fcba3a4722"
      },
      "source": [
        "### TODO: Define your architecture.\n",
        "Resnet_Model = Sequential()\n",
        "\n",
        "Resnet_Model.add(GlobalAveragePooling2D(input_shape=train_Resnet.shape[1:]))\n",
        "Resnet_Model.add(Dense(133,activation='softmax'))\n",
        "\n",
        "Resnet_Model.summary()"
      ],
      "execution_count": null,
      "outputs": [
        {
          "output_type": "stream",
          "text": [
            "Model: \"sequential_3\"\n",
            "_________________________________________________________________\n",
            "Layer (type)                 Output Shape              Param #   \n",
            "=================================================================\n",
            "global_average_pooling2d_1 ( (None, 2048)              0         \n",
            "_________________________________________________________________\n",
            "dense_3 (Dense)              (None, 133)               272517    \n",
            "=================================================================\n",
            "Total params: 272,517\n",
            "Trainable params: 272,517\n",
            "Non-trainable params: 0\n",
            "_________________________________________________________________\n"
          ],
          "name": "stdout"
        }
      ]
    },
    {
      "cell_type": "code",
      "metadata": {
        "id": "93N4DATiX6w-"
      },
      "source": [
        "#Définir la fonctio du cout\n",
        "Resnet_Model.compile(loss='categorical_crossentropy', optimizer='adam', metrics=['accuracy'])"
      ],
      "execution_count": null,
      "outputs": []
    },
    {
      "cell_type": "code",
      "metadata": {
        "id": "LVZ8I1PbX60Q"
      },
      "source": [
        "### TODO: Train the model.\n",
        "from keras.callbacks import ModelCheckpoint  \n",
        "checkpointer = ModelCheckpoint(filepath='saved_models/weights.best.Resnet.hdf5', #télécharger les parametres\n",
        "                               verbose=1, save_best_only=True)\n",
        "\n",
        "Resnet_Model.fit(train_Resnet, train_targets, \n",
        "          validation_data=(valid_Resnet, valid_targets),\n",
        "          epochs=20, batch_size=20, callbacks=[checkpointer], verbose=1)"
      ],
      "execution_count": null,
      "outputs": []
    },
    {
      "cell_type": "code",
      "metadata": {
        "id": "ODlHwn6JaGSm"
      },
      "source": [
        "### TODO: Load the model weights with the best validation loss.\n",
        "Resnet_Model.load_weights('saved_models/weights.best.Resnet.hdf5')"
      ],
      "execution_count": null,
      "outputs": []
    },
    {
      "cell_type": "code",
      "metadata": {
        "colab": {
          "base_uri": "https://localhost:8080/"
        },
        "id": "cMCD1noVmtUO",
        "outputId": "837bd5d7-19f0-417b-8a30-87297cd4f5d3"
      },
      "source": [
        "Resnet_Model.summary()"
      ],
      "execution_count": null,
      "outputs": [
        {
          "output_type": "stream",
          "text": [
            "Model: \"sequential_3\"\n",
            "_________________________________________________________________\n",
            "Layer (type)                 Output Shape              Param #   \n",
            "=================================================================\n",
            "global_average_pooling2d_1 ( (None, 2048)              0         \n",
            "_________________________________________________________________\n",
            "dense_3 (Dense)              (None, 133)               272517    \n",
            "=================================================================\n",
            "Total params: 272,517\n",
            "Trainable params: 272,517\n",
            "Non-trainable params: 0\n",
            "_________________________________________________________________\n"
          ],
          "name": "stdout"
        }
      ]
    },
    {
      "cell_type": "code",
      "metadata": {
        "id": "u3FyB7sHYgqk"
      },
      "source": [
        "import tensorflow as tf "
      ],
      "execution_count": null,
      "outputs": []
    },
    {
      "cell_type": "code",
      "metadata": {
        "colab": {
          "base_uri": "https://localhost:8080/"
        },
        "id": "Lf-tpd-zsX26",
        "outputId": "420fe9d7-82b2-48d0-f090-cf821df658ec"
      },
      "source": [
        "tf.keras.models.save_model(Resnet_Model, \"model\")"
      ],
      "execution_count": null,
      "outputs": [
        {
          "output_type": "stream",
          "text": [
            "INFO:tensorflow:Assets written to: model/assets\n"
          ],
          "name": "stdout"
        }
      ]
    },
    {
      "cell_type": "code",
      "metadata": {
        "id": "t0mzhynctmlh"
      },
      "source": [
        "# It can be used to reconstruct the model identically.\n",
        "reconstructed_model = tf.keras.models.load_model(\"model\")"
      ],
      "execution_count": null,
      "outputs": []
    },
    {
      "cell_type": "code",
      "metadata": {
        "id": "Ex5AuLHatysi"
      },
      "source": [
        "help(Resnet_Model)"
      ],
      "execution_count": null,
      "outputs": []
    },
    {
      "cell_type": "code",
      "metadata": {
        "id": "44CGrg58aGWP",
        "colab": {
          "base_uri": "https://localhost:8080/"
        },
        "outputId": "aff731bd-6084-4a42-f9dd-d12a32a010f0"
      },
      "source": [
        "### TODO: Calculate classification accuracy on the test dataset.\n",
        "Resnet_Predictions = [np.argmax(Resnet_Model.predict(np.expand_dims(feature, axis=0))) for feature in test_Resnet]\n",
        "\n",
        "# Reporting Test Accuracy\n",
        "test_accuracy = 100*np.sum(np.array(Resnet_Predictions)==np.argmax(test_targets, axis=1))/len(Resnet_Predictions)\n",
        "print('Test accuracy: %.4f%%' % test_accuracy)"
      ],
      "execution_count": null,
      "outputs": [
        {
          "output_type": "stream",
          "text": [
            "Test accuracy: 81.1005%\n"
          ],
          "name": "stdout"
        }
      ]
    },
    {
      "cell_type": "code",
      "metadata": {
        "id": "F6werMfNct3M"
      },
      "source": [
        "from extract_bottleneck_features import *\n",
        "import numpy as np"
      ],
      "execution_count": null,
      "outputs": []
    },
    {
      "cell_type": "code",
      "metadata": {
        "id": "US20J1zVmAEZ"
      },
      "source": [
        "def extract_Resnet50(tensor):\n",
        "\tfrom keras.applications.resnet50 import ResNet50, preprocess_input\n",
        "\treturn ResNet50(weights='imagenet', include_top=False).predict(preprocess_input(tensor))"
      ],
      "execution_count": null,
      "outputs": []
    },
    {
      "cell_type": "code",
      "metadata": {
        "id": "7KBiChKzcoGX"
      },
      "source": [
        "def Resnet_predict_breed(img_path):\n",
        "    # extract bottleneck features\n",
        "    bottleneck_feature = extract_Resnet50(path_to_tensor(img_path))\n",
        "    # obtain predicted vector\n",
        "    predicted_vector = Resnet_Model.predict(bottleneck_feature)\n",
        "    # return dog breed that is predicted by the model\n",
        "    return dog_names[np.argmax(predicted_vector)]"
      ],
      "execution_count": null,
      "outputs": []
    },
    {
      "cell_type": "code",
      "metadata": {
        "id": "zQh5Zw-LZZRM"
      },
      "source": [
        "### TODO: Write your algorithm.\n",
        "### Feel free to use as many code cells as needed.\n",
        "def get_correct_prenom(word, vowels):\n",
        "    if word[0].lower() in vowels:\n",
        "            return \"an\"\n",
        "    else:\n",
        "        return \"a\"\n",
        "\n",
        "def show_img(img_path):\n",
        "    img = cv2.imread(img_path)\n",
        "    cv_rgb = cv2.cvtColor(img, cv2.COLOR_BGR2RGB)\n",
        "    img_display = plt.imshow(cv_rgb)\n",
        "    return img_display\n",
        "def predict_image(img_path):\n",
        "    vowels=[\"a\",\"e\",\"i\",\"o\",\"u\"]\n",
        "    show_img(img_path)\n",
        "    #if a dog is detected in the image, return the predicted breed.\n",
        "    if dog_detector(img_path)==True:\n",
        "        predicted_breed=Resnet_predict_breed(img_path)\n",
        "        prenom=get_correct_prenom(predicted_breed,vowels)\n",
        "        return \"The predicted dog breed is \" + prenom + \" \"+ str(predicted_breed) + \".\"\n",
        "    #if a human is detected in the image, return the resembling dog breed.\n",
        "    if face_detector(img_path)==True:\n",
        "        predicted_breed=Resnet_predict_breed(img_path)\n",
        "        prenom=get_correct_prenom(predicted_breed,vowels)\n",
        "        return \"This photo looks like \" + prenom + \" \"+ str(predicted_breed) + \".\"\n",
        "    #if neither is detected in the image, provide output that indicates an error.\n",
        "    else:\n",
        "        return \"No human or dog could be detected, please provide another picture.\""
      ],
      "execution_count": null,
      "outputs": []
    },
    {
      "cell_type": "code",
      "metadata": {
        "colab": {
          "base_uri": "https://localhost:8080/",
          "height": 324
        },
        "id": "VvxAQdijmUNk",
        "outputId": "d1d6737f-7b3e-4bec-d8ac-eba0fcc56273"
      },
      "source": [
        "predict_image(\"00102ee9d8eb90812350685311fe5890.jpg\")"
      ],
      "execution_count": null,
      "outputs": [
        {
          "output_type": "stream",
          "text": [
            "WARNING:tensorflow:8 out of the last 845 calls to <function Model.make_predict_function.<locals>.predict_function at 0x7ff8808c53b0> triggered tf.function retracing. Tracing is expensive and the excessive number of tracings could be due to (1) creating @tf.function repeatedly in a loop, (2) passing tensors with different shapes, (3) passing Python objects instead of tensors. For (1), please define your @tf.function outside of the loop. For (2), @tf.function has experimental_relax_shapes=True option that relaxes argument shapes that can avoid unnecessary retracing. For (3), please refer to https://www.tensorflow.org/guide/function#controlling_retracing and https://www.tensorflow.org/api_docs/python/tf/function for  more details.\n"
          ],
          "name": "stdout"
        },
        {
          "output_type": "execute_result",
          "data": {
            "application/vnd.google.colaboratory.intrinsic+json": {
              "type": "string"
            },
            "text/plain": [
              "'The predicted dog breed is an American_eskimo_dog.'"
            ]
          },
          "metadata": {
            "tags": []
          },
          "execution_count": 107
        },
        {
          "output_type": "display_data",
          "data": {
            "image/png": "[encoded data removed]",
            "text/plain": [
              "<Figure size 432x288 with 1 Axes>"
            ]
          },
          "metadata": {
            "tags": [],
            "needs_background": "light"
          }
        }
      ]
    }
  ]
}